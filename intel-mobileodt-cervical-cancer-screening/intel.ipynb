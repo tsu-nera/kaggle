{
 "cells": [
  {
   "cell_type": "markdown",
   "metadata": {},
   "source": [
    "# Intel & MobileODT Cervical Cancer Screening\n",
    "* [Intel & MobileODT Cervical Cancer Screening | Kaggle](https://www.kaggle.com/c/intel-mobileodt-cervical-cancer-screening/data)"
   ]
  },
  {
   "cell_type": "code",
   "execution_count": 1,
   "metadata": {
    "collapsed": true
   },
   "outputs": [],
   "source": [
    "import numpy as np\n",
    "import pandas as pd"
   ]
  },
  {
   "cell_type": "markdown",
   "metadata": {},
   "source": [
    "## Data Resized"
   ]
  },
  {
   "cell_type": "code",
   "execution_count": 2,
   "metadata": {
    "collapsed": true
   },
   "outputs": [],
   "source": [
    "#path = \"/home/tsu-nera/repo/kaggle/input/intel-mobileodt-cervical-cancer-screening/\"\n",
    "path=\"/input/\"\n",
    "width = 100\n",
    "height = 100"
   ]
  },
  {
   "cell_type": "code",
   "execution_count": null,
   "metadata": {
    "collapsed": true
   },
   "outputs": [],
   "source": [
    "import os\n",
    "os.makedirs(path+\"resized\", exist_ok=True)\n",
    "\n",
    "for filetype in [\"train/\", \"valid/\"]:\n",
    "    for category in [\"Type_1\", \"Type_2\", \"Type_3\"]:\n",
    "        os.makedirs(path+\"resized/\"+filetype+category,  exist_ok=True)\n",
    "os.makedirs(path+\"resized/test/unknown\",  exist_ok=True)"
   ]
  },
  {
   "cell_type": "code",
   "execution_count": null,
   "metadata": {
    "collapsed": true
   },
   "outputs": [],
   "source": [
    "from PIL import Image\n",
    "from PIL import ImageFile\n",
    "ImageFile.LOAD_TRUNCATED_IMAGES = True\n",
    "def resize_img(src, dst, width, height):\n",
    "    img = Image.open(src, 'r')\n",
    "    resized = img.resize((width, height))\n",
    "    resized.save(dst, 'JPEG', optimize=True)"
   ]
  },
  {
   "cell_type": "code",
   "execution_count": null,
   "metadata": {
    "collapsed": true
   },
   "outputs": [],
   "source": [
    "%cd $path"
   ]
  },
  {
   "cell_type": "code",
   "execution_count": null,
   "metadata": {
    "collapsed": true
   },
   "outputs": [],
   "source": [
    "import glob\n",
    "categories = ['Type_1/', 'Type_2/', 'Type_3/']\n",
    "filetypes = [\"train/\"]\n",
    "\n",
    "for filetype in filetypes:\n",
    "    for category in categories:\n",
    "            globpath = filetype+category+\"*.jpg\"\n",
    "            files = glob.glob(globpath)\n",
    "            for file in files:\n",
    "                src = path+file\n",
    "                dst = path+\"resized/\"+file\n",
    "                resize_img(src, dst, width, height)"
   ]
  },
  {
   "cell_type": "code",
   "execution_count": null,
   "metadata": {
    "collapsed": true
   },
   "outputs": [],
   "source": [
    "%cd $path"
   ]
  },
  {
   "cell_type": "code",
   "execution_count": null,
   "metadata": {
    "collapsed": true
   },
   "outputs": [],
   "source": [
    "globpath = \"test/unknown/*.jpg\"\n",
    "files = glob.glob(globpath)\n",
    "for file in files:\n",
    "    src = path+file\n",
    "    dst = path+\"resized/\"+file\n",
    "    resize_img(src, dst, width, height)"
   ]
  },
  {
   "cell_type": "markdown",
   "metadata": {},
   "source": [
    "##  Create train/valid data"
   ]
  },
  {
   "cell_type": "code",
   "execution_count": null,
   "metadata": {
    "collapsed": true
   },
   "outputs": [],
   "source": [
    "path = \"/home/tsu-nera/repo/kaggle/input/intel-mobileodt-cervical-cancer-screening/\""
   ]
  },
  {
   "cell_type": "code",
   "execution_count": null,
   "metadata": {
    "collapsed": true
   },
   "outputs": [],
   "source": [
    "%cd $path"
   ]
  },
  {
   "cell_type": "code",
   "execution_count": null,
   "metadata": {
    "collapsed": true
   },
   "outputs": [],
   "source": [
    "%mkdir -p valid/Type_1\n",
    "%mkdir -p valid/Type_2\n",
    "%mkdir -p valid/Type_3"
   ]
  },
  {
   "cell_type": "code",
   "execution_count": null,
   "metadata": {
    "collapsed": true
   },
   "outputs": [],
   "source": [
    "%cd $path\n",
    "%cd resized/train"
   ]
  },
  {
   "cell_type": "code",
   "execution_count": null,
   "metadata": {
    "collapsed": true
   },
   "outputs": [],
   "source": [
    "import glob\n",
    "import shutil\n",
    "g = glob.glob('*/*.jpg')\n",
    "shuf = np.random.permutation(g)\n",
    "for i in range(81): \n",
    "    shutil.move(shuf[i], '../valid/' + shuf[i])"
   ]
  },
  {
   "cell_type": "markdown",
   "metadata": {},
   "source": [
    "## Load Data"
   ]
  },
  {
   "cell_type": "code",
   "execution_count": 3,
   "metadata": {},
   "outputs": [
    {
     "name": "stderr",
     "output_type": "stream",
     "text": [
      "Using TensorFlow backend.\n"
     ]
    }
   ],
   "source": [
    "import keras\n",
    "from keras.preprocessing import image\n",
    "from keras.applications.vgg16 import VGG16"
   ]
  },
  {
   "cell_type": "code",
   "execution_count": 4,
   "metadata": {
    "collapsed": true
   },
   "outputs": [],
   "source": [
    "batch_size = 64"
   ]
  },
  {
   "cell_type": "code",
   "execution_count": 5,
   "metadata": {
    "collapsed": true
   },
   "outputs": [],
   "source": [
    "gen_t = image.ImageDataGenerator(rescale=1. / 255,\n",
    "                 rotation_range=15, height_shift_range=0.05, \n",
    "                 shear_range=0.1, channel_shift_range=20, width_shift_range=0.1)\n",
    "gen = image.ImageDataGenerator(rescale=1. / 255)"
   ]
  },
  {
   "cell_type": "code",
   "execution_count": 6,
   "metadata": {},
   "outputs": [
    {
     "name": "stdout",
     "output_type": "stream",
     "text": [
      "Found 500 images belonging to 3 classes.\n",
      "Found 81 images belonging to 3 classes.\n",
      "Found 512 images belonging to 1 classes.\n"
     ]
    }
   ],
   "source": [
    "batches = gen_t.flow_from_directory(path+'train', batch_size=batch_size, target_size=(width,height))\n",
    "val_batches = gen.flow_from_directory(path+'valid', batch_size=batch_size, target_size=(width, height))\n",
    "test_batches = gen.flow_from_directory(path+'test', batch_size=batch_size, target_size=(width, height))"
   ]
  },
  {
   "cell_type": "markdown",
   "metadata": {
    "collapsed": true
   },
   "source": [
    "## Use Vgg16"
   ]
  },
  {
   "cell_type": "code",
   "execution_count": 7,
   "metadata": {
    "collapsed": true
   },
   "outputs": [],
   "source": [
    "import keras\n",
    "from keras.models import Sequential, Model\n",
    "from keras.layers import Flatten, Dense, Dropout, BatchNormalization, Activation\n",
    "from keras.layers import Conv2D, MaxPooling2D, GlobalAveragePooling2D\n",
    "from keras.optimizers import Adam, Nadam\n",
    "from keras.applications.vgg16 import VGG16\n",
    "from keras.layers.advanced_activations import PReLU"
   ]
  },
  {
   "cell_type": "code",
   "execution_count": 8,
   "metadata": {},
   "outputs": [],
   "source": [
    "base_model = VGG16(weights='imagenet', include_top=False, input_shape=(width,height,3))"
   ]
  },
  {
   "cell_type": "markdown",
   "metadata": {},
   "source": [
    "###  finetune\n",
    "* [Fine-tuning pre-trained VGG16 not possible since `add` method is not defined for `Model` class? · Issue #4040 · fchollet/keras](https://github.com/fchollet/keras/issues/4040)"
   ]
  },
  {
   "cell_type": "code",
   "execution_count": 9,
   "metadata": {
    "collapsed": true
   },
   "outputs": [],
   "source": [
    "nf = 128\n",
    "p = 0.5"
   ]
  },
  {
   "cell_type": "code",
   "execution_count": 10,
   "metadata": {
    "collapsed": true
   },
   "outputs": [],
   "source": [
    "base_model.output_shape\n",
    "last = base_model.output"
   ]
  },
  {
   "cell_type": "code",
   "execution_count": 11,
   "metadata": {},
   "outputs": [
    {
     "name": "stderr",
     "output_type": "stream",
     "text": [
      "/usr/local/lib/python3.5/site-packages/ipykernel_launcher.py:5: UserWarning: Update your `Conv2D` call to the Keras 2 API: `Conv2D(128, (3, 3), padding=\"same\")`\n",
      "  \"\"\"\n",
      "/usr/local/lib/python3.5/site-packages/ipykernel_launcher.py:9: UserWarning: Update your `Conv2D` call to the Keras 2 API: `Conv2D(128, (3, 3), padding=\"same\")`\n",
      "  if __name__ == '__main__':\n",
      "/usr/local/lib/python3.5/site-packages/ipykernel_launcher.py:13: UserWarning: Update your `Conv2D` call to the Keras 2 API: `Conv2D(128, (3, 3), padding=\"same\")`\n",
      "  del sys.path[0]\n",
      "/usr/local/lib/python3.5/site-packages/ipykernel_launcher.py:17: UserWarning: Update your `Conv2D` call to the Keras 2 API: `Conv2D(3, (3, 3), padding=\"same\")`\n"
     ]
    }
   ],
   "source": [
    "from keras import backend as K\n",
    "K.set_image_dim_ordering('th')\n",
    "\n",
    "x = BatchNormalization(axis=1)(last)\n",
    "x = Conv2D(nf,3,3, border_mode='same')(x)\n",
    "x = PReLU()(x)\n",
    "x = BatchNormalization(axis=1)(x)\n",
    "#x = MaxPooling2D(dim_ordering=\"th\")(x)\n",
    "x = Conv2D(nf,3,3, border_mode='same')(x)\n",
    "x = PReLU()(x)\n",
    "x = BatchNormalization(axis=1)(x)\n",
    "#x = MaxPooling2D(dim_ordering=\"th\")(x)\n",
    "x = Conv2D(nf,3,3, border_mode='same')(x)\n",
    "x = PReLU()(x)\n",
    "x = BatchNormalization(axis=1)(x)\n",
    "x = MaxPooling2D((1,2))(x)\n",
    "x = Conv2D(3,3,3, border_mode='same')(x)\n",
    "x = Dropout(p)(x)\n",
    "x = GlobalAveragePooling2D()(x)\n",
    "preds = Activation('softmax')(x)\n",
    "\n",
    "model = Model(base_model.input, preds)"
   ]
  },
  {
   "cell_type": "code",
   "execution_count": 12,
   "metadata": {
    "collapsed": true
   },
   "outputs": [],
   "source": [
    "for layer in base_model.layers:\n",
    "    layer.trainable = False"
   ]
  },
  {
   "cell_type": "code",
   "execution_count": 13,
   "metadata": {
    "collapsed": true
   },
   "outputs": [],
   "source": [
    "model.compile(Nadam(), loss='categorical_crossentropy', metrics=['accuracy'])"
   ]
  },
  {
   "cell_type": "markdown",
   "metadata": {},
   "source": [
    "大量のWarningがでてkernel が死ぬときの解決法\n",
    "* [Intel & MobileODT Cervical Cancer Screening | Kaggle](https://www.kaggle.com/c/intel-mobileodt-cervical-cancer-screening/discussion/31558)\n",
    "\n",
    "これでも死んだ。画像サイズがおおきいのかな？？ リサイズしてみる。"
   ]
  },
  {
   "cell_type": "code",
   "execution_count": 14,
   "metadata": {
    "collapsed": true
   },
   "outputs": [],
   "source": [
    "from keras.callbacks import EarlyStopping\n",
    "escb = EarlyStopping(monitor=\"loss\", patience=30)"
   ]
  },
  {
   "cell_type": "code",
   "execution_count": 15,
   "metadata": {
    "scrolled": true
   },
   "outputs": [
    {
     "name": "stderr",
     "output_type": "stream",
     "text": [
      "/usr/local/lib/python3.5/site-packages/ipykernel_launcher.py:2: UserWarning: Update your `fit_generator` call to the Keras 2 API: `fit_generator(<keras.pre..., 7, epochs=100, validation_data=<keras.pre..., validation_steps=1, callbacks=[<keras.ca...)`\n",
      "  \n"
     ]
    },
    {
     "name": "stdout",
     "output_type": "stream",
     "text": [
      "Epoch 1/100\n",
      "7/7 [==============================] - 12s - loss: 1.2219 - acc: 0.4978 - val_loss: 1.1085 - val_acc: 0.1250\n",
      "Epoch 2/100\n",
      "7/7 [==============================] - 9s - loss: 1.0213 - acc: 0.5376 - val_loss: 1.0727 - val_acc: 0.5882\n",
      "Epoch 3/100\n",
      "7/7 [==============================] - 7s - loss: 0.9593 - acc: 0.5753 - val_loss: 0.9894 - val_acc: 0.7059\n",
      "Epoch 4/100\n",
      "7/7 [==============================] - 7s - loss: 0.9761 - acc: 0.5757 - val_loss: 1.0244 - val_acc: 0.5294\n",
      "Epoch 5/100\n",
      "7/7 [==============================] - 7s - loss: 0.9677 - acc: 0.5694 - val_loss: 0.9629 - val_acc: 0.5882\n",
      "Epoch 6/100\n",
      "7/7 [==============================] - 7s - loss: 0.9659 - acc: 0.5560 - val_loss: 1.0503 - val_acc: 0.5294\n",
      "Epoch 7/100\n",
      "7/7 [==============================] - 7s - loss: 0.9470 - acc: 0.5914 - val_loss: 0.9132 - val_acc: 0.5882\n",
      "Epoch 8/100\n",
      "7/7 [==============================] - 7s - loss: 0.9620 - acc: 0.5690 - val_loss: 0.9277 - val_acc: 0.7059\n",
      "Epoch 9/100\n",
      "7/7 [==============================] - 8s - loss: 0.9623 - acc: 0.5625 - val_loss: 0.9186 - val_acc: 0.6471\n",
      "Epoch 10/100\n",
      "7/7 [==============================] - 7s - loss: 0.9526 - acc: 0.5860 - val_loss: 0.8321 - val_acc: 0.7059\n",
      "Epoch 11/100\n",
      "7/7 [==============================] - 7s - loss: 0.9606 - acc: 0.5560 - val_loss: 0.9711 - val_acc: 0.5294\n",
      "Epoch 12/100\n",
      "7/7 [==============================] - 7s - loss: 0.9455 - acc: 0.5824 - val_loss: 1.1042 - val_acc: 0.4706\n",
      "Epoch 13/100\n",
      "7/7 [==============================] - 7s - loss: 0.9670 - acc: 0.5600 - val_loss: 1.2971 - val_acc: 0.2941\n",
      "Epoch 14/100\n",
      "7/7 [==============================] - 7s - loss: 0.9282 - acc: 0.5860 - val_loss: 1.5197 - val_acc: 0.2353\n",
      "Epoch 15/100\n",
      "7/7 [==============================] - 7s - loss: 0.9425 - acc: 0.5815 - val_loss: 1.0200 - val_acc: 0.4706\n",
      "Epoch 16/100\n",
      "7/7 [==============================] - 7s - loss: 0.9288 - acc: 0.5654 - val_loss: 1.1655 - val_acc: 0.4706\n",
      "Epoch 17/100\n",
      "7/7 [==============================] - 8s - loss: 0.9063 - acc: 0.5871 - val_loss: 1.2013 - val_acc: 0.5294\n",
      "Epoch 18/100\n",
      "7/7 [==============================] - 7s - loss: 0.9290 - acc: 0.5672 - val_loss: 0.8378 - val_acc: 0.7059\n",
      "Epoch 19/100\n",
      "7/7 [==============================] - 7s - loss: 0.9103 - acc: 0.5582 - val_loss: 1.0556 - val_acc: 0.3529\n",
      "Epoch 20/100\n",
      "7/7 [==============================] - 8s - loss: 0.9104 - acc: 0.5865 - val_loss: 1.1824 - val_acc: 0.5294\n",
      "Epoch 21/100\n",
      "7/7 [==============================] - 7s - loss: 0.8540 - acc: 0.6026 - val_loss: 2.2600 - val_acc: 0.5294\n",
      "Epoch 22/100\n",
      "7/7 [==============================] - 7s - loss: 0.8439 - acc: 0.6286 - val_loss: 1.4099 - val_acc: 0.6471\n",
      "Epoch 23/100\n",
      "7/7 [==============================] - 7s - loss: 0.8023 - acc: 0.6277 - val_loss: 3.6476 - val_acc: 0.4706\n",
      "Epoch 24/100\n",
      "7/7 [==============================] - 8s - loss: 0.8165 - acc: 0.6389 - val_loss: 3.0777 - val_acc: 0.5294\n",
      "Epoch 25/100\n",
      "7/7 [==============================] - 8s - loss: 0.7816 - acc: 0.6496 - val_loss: 0.7317 - val_acc: 0.7647\n",
      "Epoch 26/100\n",
      "7/7 [==============================] - 7s - loss: 0.7249 - acc: 0.6770 - val_loss: 4.2715 - val_acc: 0.5294\n",
      "Epoch 27/100\n",
      "7/7 [==============================] - 7s - loss: 0.6876 - acc: 0.7115 - val_loss: 3.6467 - val_acc: 0.5294\n",
      "Epoch 28/100\n",
      "7/7 [==============================] - 8s - loss: 0.6289 - acc: 0.7379 - val_loss: 3.9434 - val_acc: 0.4118\n",
      "Epoch 29/100\n",
      "7/7 [==============================] - 7s - loss: 0.6530 - acc: 0.6971 - val_loss: 4.6536 - val_acc: 0.4118\n",
      "Epoch 30/100\n",
      "7/7 [==============================] - 8s - loss: 0.6056 - acc: 0.7487 - val_loss: 6.4902 - val_acc: 0.4706\n",
      "Epoch 31/100\n",
      "7/7 [==============================] - 7s - loss: 0.5370 - acc: 0.7979 - val_loss: 3.0604 - val_acc: 0.6471\n",
      "Epoch 32/100\n",
      "7/7 [==============================] - 7s - loss: 0.5718 - acc: 0.7585 - val_loss: 4.4580 - val_acc: 0.6471\n",
      "Epoch 33/100\n",
      "7/7 [==============================] - 8s - loss: 0.4884 - acc: 0.8080 - val_loss: 4.6419 - val_acc: 0.5882\n",
      "Epoch 34/100\n",
      "7/7 [==============================] - 7s - loss: 0.4147 - acc: 0.8512 - val_loss: 4.7448 - val_acc: 0.5294\n",
      "Epoch 35/100\n",
      "7/7 [==============================] - 7s - loss: 0.4131 - acc: 0.8365 - val_loss: 8.1672 - val_acc: 0.3529\n",
      "Epoch 36/100\n",
      "7/7 [==============================] - 8s - loss: 0.4092 - acc: 0.8199 - val_loss: 6.8480 - val_acc: 0.4118\n",
      "Epoch 37/100\n",
      "7/7 [==============================] - 7s - loss: 0.3535 - acc: 0.8705 - val_loss: 6.8889 - val_acc: 0.5294\n",
      "Epoch 38/100\n",
      "7/7 [==============================] - 7s - loss: 0.3292 - acc: 0.8732 - val_loss: 11.3775 - val_acc: 0.2941\n",
      "Epoch 39/100\n",
      "7/7 [==============================] - 8s - loss: 0.2938 - acc: 0.8929 - val_loss: 6.6288 - val_acc: 0.5882\n",
      "Epoch 40/100\n",
      "7/7 [==============================] - 7s - loss: 0.2426 - acc: 0.9176 - val_loss: 9.6815 - val_acc: 0.3529\n",
      "Epoch 41/100\n",
      "7/7 [==============================] - 8s - loss: 0.2848 - acc: 0.8929 - val_loss: 6.5719 - val_acc: 0.5882\n",
      "Epoch 42/100\n",
      "7/7 [==============================] - 8s - loss: 0.3103 - acc: 0.8804 - val_loss: 6.5128 - val_acc: 0.5882\n",
      "Epoch 43/100\n",
      "7/7 [==============================] - 8s - loss: 0.2124 - acc: 0.9288 - val_loss: 8.4987 - val_acc: 0.4706\n",
      "Epoch 44/100\n",
      "7/7 [==============================] - 7s - loss: 0.2298 - acc: 0.9090 - val_loss: 11.3775 - val_acc: 0.2941\n",
      "Epoch 45/100\n",
      "7/7 [==============================] - 7s - loss: 0.2552 - acc: 0.9032 - val_loss: 6.6369 - val_acc: 0.5882\n",
      "Epoch 46/100\n",
      "7/7 [==============================] - 8s - loss: 0.1927 - acc: 0.9153 - val_loss: 7.5850 - val_acc: 0.5294\n",
      "Epoch 47/100\n",
      "7/7 [==============================] - 7s - loss: 0.1654 - acc: 0.9458 - val_loss: 7.5850 - val_acc: 0.5294\n",
      "Epoch 48/100\n",
      "7/7 [==============================] - 7s - loss: 0.1869 - acc: 0.9444 - val_loss: 6.6369 - val_acc: 0.5882\n",
      "Epoch 49/100\n",
      "7/7 [==============================] - 8s - loss: 0.1755 - acc: 0.9397 - val_loss: 9.4812 - val_acc: 0.4118\n",
      "Epoch 50/100\n",
      "7/7 [==============================] - 8s - loss: 0.1325 - acc: 0.9610 - val_loss: 8.5331 - val_acc: 0.4706\n",
      "Epoch 51/100\n",
      "7/7 [==============================] - 8s - loss: 0.1562 - acc: 0.9471 - val_loss: 7.5850 - val_acc: 0.5294\n",
      "Epoch 52/100\n",
      "7/7 [==============================] - 7s - loss: 0.1367 - acc: 0.9530 - val_loss: 9.4812 - val_acc: 0.4118\n",
      "Epoch 53/100\n",
      "7/7 [==============================] - 8s - loss: 0.1580 - acc: 0.9328 - val_loss: 8.5331 - val_acc: 0.4706\n",
      "Epoch 54/100\n",
      "7/7 [==============================] - 7s - loss: 0.1692 - acc: 0.9476 - val_loss: 7.5850 - val_acc: 0.5294\n",
      "Epoch 55/100\n",
      "7/7 [==============================] - 7s - loss: 0.1485 - acc: 0.9386 - val_loss: 5.6887 - val_acc: 0.6471\n",
      "Epoch 56/100\n",
      "7/7 [==============================] - 7s - loss: 0.1449 - acc: 0.9431 - val_loss: 5.6887 - val_acc: 0.6471\n",
      "Epoch 57/100\n",
      "7/7 [==============================] - 8s - loss: 0.1123 - acc: 0.9576 - val_loss: 9.4812 - val_acc: 0.4118\n",
      "Epoch 58/100\n",
      "7/7 [==============================] - 7s - loss: 0.0879 - acc: 0.9762 - val_loss: 7.5850 - val_acc: 0.5294\n",
      "Epoch 59/100\n",
      "7/7 [==============================] - 8s - loss: 0.1046 - acc: 0.9704 - val_loss: 4.7406 - val_acc: 0.7059\n",
      "Epoch 60/100\n",
      "7/7 [==============================] - 7s - loss: 0.1235 - acc: 0.9476 - val_loss: 8.5331 - val_acc: 0.4706\n",
      "Epoch 61/100\n",
      "7/7 [==============================] - 7s - loss: 0.0814 - acc: 0.9794 - val_loss: 8.5331 - val_acc: 0.4706\n",
      "Epoch 62/100\n",
      "7/7 [==============================] - 8s - loss: 0.0983 - acc: 0.9637 - val_loss: 6.6369 - val_acc: 0.5882\n",
      "Epoch 63/100\n",
      "7/7 [==============================] - 8s - loss: 0.0996 - acc: 0.9664 - val_loss: 7.5850 - val_acc: 0.5294\n",
      "Epoch 64/100\n",
      "7/7 [==============================] - 7s - loss: 0.0868 - acc: 0.9722 - val_loss: 6.6369 - val_acc: 0.5882\n",
      "Epoch 65/100\n",
      "7/7 [==============================] - 8s - loss: 0.1270 - acc: 0.9554 - val_loss: 8.5331 - val_acc: 0.4706\n",
      "Epoch 66/100\n",
      "7/7 [==============================] - 7s - loss: 0.1261 - acc: 0.9610 - val_loss: 11.3775 - val_acc: 0.2941\n",
      "Epoch 67/100\n",
      "7/7 [==============================] - 7s - loss: 0.0825 - acc: 0.9727 - val_loss: 8.5331 - val_acc: 0.4706\n",
      "Epoch 68/100\n"
     ]
    },
    {
     "name": "stdout",
     "output_type": "stream",
     "text": [
      "7/7 [==============================] - 8s - loss: 0.0912 - acc: 0.9727 - val_loss: 7.5850 - val_acc: 0.5294\n",
      "Epoch 69/100\n",
      "7/7 [==============================] - 7s - loss: 0.1096 - acc: 0.9682 - val_loss: 7.5850 - val_acc: 0.5294\n",
      "Epoch 70/100\n",
      "7/7 [==============================] - 7s - loss: 0.0886 - acc: 0.9722 - val_loss: 6.6369 - val_acc: 0.5882\n",
      "Epoch 71/100\n",
      "7/7 [==============================] - 8s - loss: 0.1498 - acc: 0.9503 - val_loss: 11.3775 - val_acc: 0.2941\n",
      "Epoch 72/100\n",
      "7/7 [==============================] - 7s - loss: 0.1035 - acc: 0.9583 - val_loss: 8.5331 - val_acc: 0.4706\n",
      "Epoch 73/100\n",
      "7/7 [==============================] - 8s - loss: 0.0807 - acc: 0.9665 - val_loss: 7.5850 - val_acc: 0.5294\n",
      "Epoch 74/100\n",
      "7/7 [==============================] - 7s - loss: 0.1180 - acc: 0.9633 - val_loss: 7.5850 - val_acc: 0.5294\n",
      "Epoch 75/100\n",
      "7/7 [==============================] - 8s - loss: 0.0689 - acc: 0.9749 - val_loss: 5.6887 - val_acc: 0.6471\n",
      "Epoch 76/100\n",
      "7/7 [==============================] - 7s - loss: 0.0479 - acc: 0.9866 - val_loss: 8.3276 - val_acc: 0.4706\n",
      "Epoch 77/100\n",
      "7/7 [==============================] - 7s - loss: 0.0506 - acc: 0.9888 - val_loss: 10.4294 - val_acc: 0.3529\n",
      "Epoch 78/100\n",
      "7/7 [==============================] - 7s - loss: 0.0549 - acc: 0.9866 - val_loss: 9.4254 - val_acc: 0.4118\n",
      "Epoch 79/100\n",
      "7/7 [==============================] - 7s - loss: 0.0374 - acc: 0.9906 - val_loss: 6.8482 - val_acc: 0.5294\n",
      "Epoch 80/100\n",
      "7/7 [==============================] - 7s - loss: 0.0505 - acc: 0.9866 - val_loss: 4.2530 - val_acc: 0.7059\n",
      "Epoch 81/100\n",
      "7/7 [==============================] - 8s - loss: 0.0553 - acc: 0.9821 - val_loss: 7.9429 - val_acc: 0.4118\n",
      "Epoch 82/100\n",
      "7/7 [==============================] - 7s - loss: 0.0362 - acc: 0.9901 - val_loss: 7.8453 - val_acc: 0.4706\n",
      "Epoch 83/100\n",
      "7/7 [==============================] - 7s - loss: 0.0779 - acc: 0.9660 - val_loss: 8.1594 - val_acc: 0.4706\n",
      "Epoch 84/100\n",
      "7/7 [==============================] - 8s - loss: 0.0470 - acc: 0.9888 - val_loss: 11.3074 - val_acc: 0.2941\n",
      "Epoch 85/100\n",
      "7/7 [==============================] - 7s - loss: 0.0679 - acc: 0.9776 - val_loss: 7.2650 - val_acc: 0.4706\n",
      "Epoch 86/100\n",
      "7/7 [==============================] - 8s - loss: 0.0734 - acc: 0.9821 - val_loss: 4.4447 - val_acc: 0.5882\n",
      "Epoch 87/100\n",
      "7/7 [==============================] - 7s - loss: 0.0729 - acc: 0.9754 - val_loss: 8.2368 - val_acc: 0.4706\n",
      "Epoch 88/100\n",
      "7/7 [==============================] - 7s - loss: 0.0629 - acc: 0.9866 - val_loss: 6.7149 - val_acc: 0.4706\n",
      "Epoch 89/100\n",
      "7/7 [==============================] - 8s - loss: 0.0868 - acc: 0.9665 - val_loss: 7.5418 - val_acc: 0.4706\n",
      "Epoch 90/100\n",
      "7/7 [==============================] - 7s - loss: 0.0620 - acc: 0.9843 - val_loss: 5.9116 - val_acc: 0.5294\n",
      "Epoch 91/100\n",
      "7/7 [==============================] - 7s - loss: 0.0883 - acc: 0.9615 - val_loss: 6.2046 - val_acc: 0.4706\n",
      "Epoch 92/100\n",
      "7/7 [==============================] - 7s - loss: 0.0620 - acc: 0.9816 - val_loss: 5.9064 - val_acc: 0.4118\n",
      "Epoch 93/100\n",
      "7/7 [==============================] - 7s - loss: 0.0954 - acc: 0.9704 - val_loss: 3.4763 - val_acc: 0.5882\n",
      "Epoch 94/100\n",
      "7/7 [==============================] - 8s - loss: 0.0521 - acc: 0.9839 - val_loss: 3.3221 - val_acc: 0.6471\n",
      "Epoch 95/100\n",
      "7/7 [==============================] - 7s - loss: 0.0590 - acc: 0.9753 - val_loss: 4.5950 - val_acc: 0.4706\n",
      "Epoch 96/100\n",
      "7/7 [==============================] - 7s - loss: 0.0331 - acc: 0.9955 - val_loss: 5.9540 - val_acc: 0.4118\n",
      "Epoch 97/100\n",
      "7/7 [==============================] - 8s - loss: 0.0438 - acc: 0.9844 - val_loss: 2.9065 - val_acc: 0.5882\n",
      "Epoch 98/100\n",
      "7/7 [==============================] - 7s - loss: 0.0264 - acc: 1.0000 - val_loss: 3.4758 - val_acc: 0.6471\n",
      "Epoch 99/100\n",
      "7/7 [==============================] - 7s - loss: 0.0291 - acc: 0.9978 - val_loss: 6.0004 - val_acc: 0.4118\n",
      "Epoch 100/100\n",
      "7/7 [==============================] - 7s - loss: 0.0518 - acc: 0.9794 - val_loss: 3.8416 - val_acc: 0.5294\n"
     ]
    },
    {
     "data": {
      "text/plain": [
       "<keras.callbacks.History at 0x7f8579d29d30>"
      ]
     },
     "execution_count": 15,
     "metadata": {},
     "output_type": "execute_result"
    }
   ],
   "source": [
    "model.fit_generator(batches, batches.n//batch_size, nb_epoch=100,\n",
    "                    validation_data=val_batches, validation_steps=val_batches.n//batch_size, callbacks=[escb])"
   ]
  },
  {
   "cell_type": "markdown",
   "metadata": {
    "collapsed": true
   },
   "source": [
    "## Predict"
   ]
  },
  {
   "cell_type": "code",
   "execution_count": 17,
   "metadata": {},
   "outputs": [],
   "source": [
    "preds = model.predict_generator(test_batches, test_batches.n//batch_size)"
   ]
  },
  {
   "cell_type": "markdown",
   "metadata": {},
   "source": [
    "## Submit"
   ]
  },
  {
   "cell_type": "code",
   "execution_count": 18,
   "metadata": {
    "collapsed": true
   },
   "outputs": [],
   "source": [
    "def do_clip(arr, mx): return np.clip(arr, (1-mx)/2, mx)"
   ]
  },
  {
   "cell_type": "code",
   "execution_count": 19,
   "metadata": {
    "collapsed": true
   },
   "outputs": [],
   "source": [
    "subm = do_clip(preds,0.93)"
   ]
  },
  {
   "cell_type": "code",
   "execution_count": 20,
   "metadata": {
    "collapsed": true
   },
   "outputs": [],
   "source": [
    "test_filenames = [a[8:] for a in test_batches.filenames]"
   ]
  },
  {
   "cell_type": "code",
   "execution_count": 21,
   "metadata": {},
   "outputs": [
    {
     "data": {
      "text/html": [
       "<div>\n",
       "<style>\n",
       "    .dataframe thead tr:only-child th {\n",
       "        text-align: right;\n",
       "    }\n",
       "\n",
       "    .dataframe thead th {\n",
       "        text-align: left;\n",
       "    }\n",
       "\n",
       "    .dataframe tbody tr th {\n",
       "        vertical-align: top;\n",
       "    }\n",
       "</style>\n",
       "<table border=\"1\" class=\"dataframe\">\n",
       "  <thead>\n",
       "    <tr style=\"text-align: right;\">\n",
       "      <th></th>\n",
       "      <th>image_name</th>\n",
       "      <th>Type_1</th>\n",
       "      <th>Type_2</th>\n",
       "      <th>Type_3</th>\n",
       "    </tr>\n",
       "  </thead>\n",
       "  <tbody>\n",
       "    <tr>\n",
       "      <th>0</th>\n",
       "      <td>10.jpg</td>\n",
       "      <td>0.035</td>\n",
       "      <td>0.93</td>\n",
       "      <td>0.035</td>\n",
       "    </tr>\n",
       "    <tr>\n",
       "      <th>1</th>\n",
       "      <td>377.jpg</td>\n",
       "      <td>0.035</td>\n",
       "      <td>0.93</td>\n",
       "      <td>0.035</td>\n",
       "    </tr>\n",
       "    <tr>\n",
       "      <th>2</th>\n",
       "      <td>296.jpg</td>\n",
       "      <td>0.035</td>\n",
       "      <td>0.93</td>\n",
       "      <td>0.035</td>\n",
       "    </tr>\n",
       "    <tr>\n",
       "      <th>3</th>\n",
       "      <td>458.jpg</td>\n",
       "      <td>0.035</td>\n",
       "      <td>0.93</td>\n",
       "      <td>0.035</td>\n",
       "    </tr>\n",
       "    <tr>\n",
       "      <th>4</th>\n",
       "      <td>89.jpg</td>\n",
       "      <td>0.035</td>\n",
       "      <td>0.93</td>\n",
       "      <td>0.035</td>\n",
       "    </tr>\n",
       "  </tbody>\n",
       "</table>\n",
       "</div>"
      ],
      "text/plain": [
       "  image_name  Type_1  Type_2  Type_3\n",
       "0     10.jpg   0.035    0.93   0.035\n",
       "1    377.jpg   0.035    0.93   0.035\n",
       "2    296.jpg   0.035    0.93   0.035\n",
       "3    458.jpg   0.035    0.93   0.035\n",
       "4     89.jpg   0.035    0.93   0.035"
      ]
     },
     "execution_count": 21,
     "metadata": {},
     "output_type": "execute_result"
    }
   ],
   "source": [
    "classes = sorted(batches.class_indices, key=batches.class_indices.get)\n",
    "submission = pd.DataFrame(subm, columns=classes)\n",
    "submission.insert(0, 'image_name', test_filenames)\n",
    "submission.head()"
   ]
  },
  {
   "cell_type": "code",
   "execution_count": 22,
   "metadata": {},
   "outputs": [
    {
     "name": "stdout",
     "output_type": "stream",
     "text": [
      "[Errno 2] No such file or directory: '/home/tsu-nera/repo/kaggle/intel-mobileodt-cervical-cancer-screening'\n",
      "/output\n"
     ]
    }
   ],
   "source": [
    "%cd '/home/tsu-nera/repo/kaggle/intel-mobileodt-cervical-cancer-screening'"
   ]
  },
  {
   "cell_type": "code",
   "execution_count": 23,
   "metadata": {},
   "outputs": [
    {
     "data": {
      "text/html": [
       "<a href='submission.csv' target='_blank'>submission.csv</a><br>"
      ],
      "text/plain": [
       "/output/submission.csv"
      ]
     },
     "execution_count": 23,
     "metadata": {},
     "output_type": "execute_result"
    }
   ],
   "source": [
    "from IPython.display import FileLink\n",
    "submission.to_csv('submission.csv', index=False)\n",
    "FileLink('submission.csv')"
   ]
  },
  {
   "cell_type": "code",
   "execution_count": null,
   "metadata": {
    "collapsed": true
   },
   "outputs": [],
   "source": []
  }
 ],
 "metadata": {
  "kernelspec": {
   "display_name": "Python 3",
   "language": "python",
   "name": "python3"
  },
  "language_info": {
   "codemirror_mode": {
    "name": "ipython",
    "version": 3
   },
   "file_extension": ".py",
   "mimetype": "text/x-python",
   "name": "python",
   "nbconvert_exporter": "python",
   "pygments_lexer": "ipython3",
   "version": "3.5.3"
  },
  "notify_time": "30",
  "toc": {
   "colors": {
    "hover_highlight": "#DAA520",
    "running_highlight": "#FF0000",
    "selected_highlight": "#FFD700"
   },
   "moveMenuLeft": true,
   "nav_menu": {
    "height": "31px",
    "width": "254px"
   },
   "navigate_menu": true,
   "number_sections": false,
   "sideBar": true,
   "threshold": 4,
   "toc_cell": false,
   "toc_section_display": "block",
   "toc_window_display": false,
   "widenNotebook": false
  }
 },
 "nbformat": 4,
 "nbformat_minor": 2
}

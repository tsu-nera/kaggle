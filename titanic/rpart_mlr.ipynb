{
 "cells": [
  {
   "cell_type": "markdown",
   "metadata": {
    "deletable": true,
    "editable": true
   },
   "source": [
    "# rpart_mlr"
   ]
  },
  {
   "cell_type": "code",
   "execution_count": 34,
   "metadata": {
    "collapsed": false,
    "deletable": true,
    "editable": true
   },
   "outputs": [],
   "source": [
    "library(mlr)\n",
    "set.seed(17)"
   ]
  },
  {
   "cell_type": "code",
   "execution_count": 35,
   "metadata": {
    "collapsed": true,
    "deletable": true,
    "editable": true
   },
   "outputs": [],
   "source": [
    "training <- read.csv(\"~/repo/kaggle/input/titanic/train.csv\")"
   ]
  },
  {
   "cell_type": "markdown",
   "metadata": {
    "deletable": true,
    "editable": true
   },
   "source": [
    "## preprocessing"
   ]
  },
  {
   "cell_type": "code",
   "execution_count": 36,
   "metadata": {
    "collapsed": true,
    "deletable": true,
    "editable": true
   },
   "outputs": [],
   "source": [
    "trainingSel = subset(training, select = c('Survived', 'Pclass', 'Sex', 'Age', 'SibSp', 'Parch', 'Embarked'))"
   ]
  },
  {
   "cell_type": "code",
   "execution_count": 37,
   "metadata": {
    "collapsed": true,
    "deletable": true,
    "editable": true
   },
   "outputs": [],
   "source": [
    "trainingSel = subset(trainingSel, Embarked != '')\n",
    "trainingSel$Embarked = droplevels(trainingSel$Embarked, \"\")"
   ]
  },
  {
   "cell_type": "code",
   "execution_count": 38,
   "metadata": {
    "collapsed": true,
    "deletable": true,
    "editable": true
   },
   "outputs": [],
   "source": [
    "agemedian = median(trainingSel$Age, na.rm = TRUE)\n",
    "trainingSel$Age = replace(trainingSel$Age, is.na(trainingSel$Age), agemedian)"
   ]
  },
  {
   "cell_type": "markdown",
   "metadata": {
    "deletable": true,
    "editable": true
   },
   "source": [
    "## mlr"
   ]
  },
  {
   "cell_type": "code",
   "execution_count": 39,
   "metadata": {
    "collapsed": false,
    "deletable": true,
    "editable": true
   },
   "outputs": [],
   "source": [
    "trainTask <- makeClassifTask(data = training,target = \"Survived\")"
   ]
  },
  {
   "cell_type": "code",
   "execution_count": 40,
   "metadata": {
    "collapsed": false,
    "deletable": true,
    "editable": true
   },
   "outputs": [],
   "source": [
    "makeatree <- makeLearner(\"classif.rpart\", predict.type = \"response\")"
   ]
  },
  {
   "cell_type": "code",
   "execution_count": 41,
   "metadata": {
    "collapsed": true,
    "deletable": true,
    "editable": true
   },
   "outputs": [],
   "source": [
    "set_cv <- makeResampleDesc(\"CV\",iters = 5L)"
   ]
  },
  {
   "cell_type": "code",
   "execution_count": 42,
   "metadata": {
    "collapsed": false,
    "deletable": true,
    "editable": true
   },
   "outputs": [],
   "source": [
    "gs <- makeParamSet(\n",
    "    makeDiscreteParam(\"cp\", values = c(1e-4, 1e-5)),\n",
    "    makeDiscreteParam(\"maxdepth\", values = seq(5,10,1)),\n",
    "    makeDiscreteParam(\"minbucket\", values = seq(10,100,10))\n",
    ")"
   ]
  },
  {
   "cell_type": "code",
   "execution_count": 43,
   "metadata": {
    "collapsed": true,
    "deletable": true,
    "editable": true
   },
   "outputs": [],
   "source": [
    "gscontrol <- makeTuneControlGrid()"
   ]
  },
  {
   "cell_type": "code",
   "execution_count": 44,
   "metadata": {
    "collapsed": false,
    "deletable": true,
    "editable": true,
    "scrolled": true
   },
   "outputs": [
    {
     "name": "stderr",
     "output_type": "stream",
     "text": [
      "[Tune] Started tuning learner classif.rpart for parameter set:\n",
      "              Type len Def                         Constr Req Tunable Trafo\n",
      "cp        discrete   -   -                    1e-04,1e-05   -    TRUE     -\n",
      "maxdepth  discrete   -   -                   5,6,7,8,9,10   -    TRUE     -\n",
      "minbucket discrete   -   - 10,20,30,40,50,60,70,80,90,100   -    TRUE     -\n",
      "With control class: TuneControlGrid\n",
      "Imputation value: -0\n",
      "[Tune-x] 1: cp=1e-04; maxdepth=5; minbucket=10\n",
      "[Tune-y] 1: acc.test.mean=0.775; time: 0.0 min\n",
      "[Tune-x] 2: cp=1e-05; maxdepth=5; minbucket=10\n",
      "[Tune-y] 2: acc.test.mean=0.775; time: 0.0 min\n",
      "[Tune-x] 3: cp=1e-04; maxdepth=6; minbucket=10\n",
      "[Tune-y] 3: acc.test.mean=0.775; time: 0.0 min\n",
      "[Tune-x] 4: cp=1e-05; maxdepth=6; minbucket=10\n",
      "[Tune-y] 4: acc.test.mean=0.775; time: 0.0 min\n",
      "[Tune-x] 5: cp=1e-04; maxdepth=7; minbucket=10\n",
      "[Tune-y] 5: acc.test.mean=0.775; time: 0.0 min\n",
      "[Tune-x] 6: cp=1e-05; maxdepth=7; minbucket=10\n",
      "[Tune-y] 6: acc.test.mean=0.775; time: 0.0 min\n",
      "[Tune-x] 7: cp=1e-04; maxdepth=8; minbucket=10\n",
      "[Tune-y] 7: acc.test.mean=0.775; time: 0.0 min\n",
      "[Tune-x] 8: cp=1e-05; maxdepth=8; minbucket=10\n",
      "[Tune-y] 8: acc.test.mean=0.775; time: 0.0 min\n",
      "[Tune-x] 9: cp=1e-04; maxdepth=9; minbucket=10\n",
      "[Tune-y] 9: acc.test.mean=0.775; time: 0.0 min\n",
      "[Tune-x] 10: cp=1e-05; maxdepth=9; minbucket=10\n",
      "[Tune-y] 10: acc.test.mean=0.775; time: 0.0 min\n",
      "[Tune-x] 11: cp=1e-04; maxdepth=10; minbucket=10\n",
      "[Tune-y] 11: acc.test.mean=0.775; time: 0.0 min\n",
      "[Tune-x] 12: cp=1e-05; maxdepth=10; minbucket=10\n",
      "[Tune-y] 12: acc.test.mean=0.775; time: 0.0 min\n",
      "[Tune-x] 13: cp=1e-04; maxdepth=5; minbucket=20\n",
      "[Tune-y] 13: acc.test.mean=0.775; time: 0.0 min\n",
      "[Tune-x] 14: cp=1e-05; maxdepth=5; minbucket=20\n",
      "[Tune-y] 14: acc.test.mean=0.775; time: 0.0 min\n",
      "[Tune-x] 15: cp=1e-04; maxdepth=6; minbucket=20\n",
      "[Tune-y] 15: acc.test.mean=0.775; time: 0.0 min\n",
      "[Tune-x] 16: cp=1e-05; maxdepth=6; minbucket=20\n",
      "[Tune-y] 16: acc.test.mean=0.775; time: 0.0 min\n",
      "[Tune-x] 17: cp=1e-04; maxdepth=7; minbucket=20\n",
      "[Tune-y] 17: acc.test.mean=0.775; time: 0.0 min\n",
      "[Tune-x] 18: cp=1e-05; maxdepth=7; minbucket=20\n",
      "[Tune-y] 18: acc.test.mean=0.775; time: 0.0 min\n",
      "[Tune-x] 19: cp=1e-04; maxdepth=8; minbucket=20\n",
      "[Tune-y] 19: acc.test.mean=0.775; time: 0.0 min\n",
      "[Tune-x] 20: cp=1e-05; maxdepth=8; minbucket=20\n",
      "[Tune-y] 20: acc.test.mean=0.775; time: 0.0 min\n",
      "[Tune-x] 21: cp=1e-04; maxdepth=9; minbucket=20\n",
      "[Tune-y] 21: acc.test.mean=0.775; time: 0.0 min\n",
      "[Tune-x] 22: cp=1e-05; maxdepth=9; minbucket=20\n",
      "[Tune-y] 22: acc.test.mean=0.775; time: 0.0 min\n",
      "[Tune-x] 23: cp=1e-04; maxdepth=10; minbucket=20\n",
      "[Tune-y] 23: acc.test.mean=0.775; time: 0.0 min\n",
      "[Tune-x] 24: cp=1e-05; maxdepth=10; minbucket=20\n",
      "[Tune-y] 24: acc.test.mean=0.775; time: 0.0 min\n",
      "[Tune-x] 25: cp=1e-04; maxdepth=5; minbucket=30\n",
      "[Tune-y] 25: acc.test.mean=0.775; time: 0.0 min\n",
      "[Tune-x] 26: cp=1e-05; maxdepth=5; minbucket=30\n",
      "[Tune-y] 26: acc.test.mean=0.775; time: 0.0 min\n",
      "[Tune-x] 27: cp=1e-04; maxdepth=6; minbucket=30\n",
      "[Tune-y] 27: acc.test.mean=0.775; time: 0.0 min\n",
      "[Tune-x] 28: cp=1e-05; maxdepth=6; minbucket=30\n",
      "[Tune-y] 28: acc.test.mean=0.775; time: 0.0 min\n",
      "[Tune-x] 29: cp=1e-04; maxdepth=7; minbucket=30\n",
      "[Tune-y] 29: acc.test.mean=0.775; time: 0.0 min\n",
      "[Tune-x] 30: cp=1e-05; maxdepth=7; minbucket=30\n",
      "[Tune-y] 30: acc.test.mean=0.775; time: 0.0 min\n",
      "[Tune-x] 31: cp=1e-04; maxdepth=8; minbucket=30\n",
      "[Tune-y] 31: acc.test.mean=0.775; time: 0.0 min\n",
      "[Tune-x] 32: cp=1e-05; maxdepth=8; minbucket=30\n",
      "[Tune-y] 32: acc.test.mean=0.775; time: 0.0 min\n",
      "[Tune-x] 33: cp=1e-04; maxdepth=9; minbucket=30\n",
      "[Tune-y] 33: acc.test.mean=0.775; time: 0.0 min\n",
      "[Tune-x] 34: cp=1e-05; maxdepth=9; minbucket=30\n",
      "[Tune-y] 34: acc.test.mean=0.775; time: 0.0 min\n",
      "[Tune-x] 35: cp=1e-04; maxdepth=10; minbucket=30\n",
      "[Tune-y] 35: acc.test.mean=0.775; time: 0.0 min\n",
      "[Tune-x] 36: cp=1e-05; maxdepth=10; minbucket=30\n",
      "[Tune-y] 36: acc.test.mean=0.775; time: 0.0 min\n",
      "[Tune-x] 37: cp=1e-04; maxdepth=5; minbucket=40\n",
      "[Tune-y] 37: acc.test.mean=0.775; time: 0.0 min\n",
      "[Tune-x] 38: cp=1e-05; maxdepth=5; minbucket=40\n",
      "[Tune-y] 38: acc.test.mean=0.775; time: 0.0 min\n",
      "[Tune-x] 39: cp=1e-04; maxdepth=6; minbucket=40\n",
      "[Tune-y] 39: acc.test.mean=0.775; time: 0.0 min\n",
      "[Tune-x] 40: cp=1e-05; maxdepth=6; minbucket=40\n",
      "[Tune-y] 40: acc.test.mean=0.775; time: 0.0 min\n",
      "[Tune-x] 41: cp=1e-04; maxdepth=7; minbucket=40\n",
      "[Tune-y] 41: acc.test.mean=0.775; time: 0.0 min\n",
      "[Tune-x] 42: cp=1e-05; maxdepth=7; minbucket=40\n",
      "[Tune-y] 42: acc.test.mean=0.775; time: 0.0 min\n",
      "[Tune-x] 43: cp=1e-04; maxdepth=8; minbucket=40\n",
      "[Tune-y] 43: acc.test.mean=0.775; time: 0.0 min\n",
      "[Tune-x] 44: cp=1e-05; maxdepth=8; minbucket=40\n",
      "[Tune-y] 44: acc.test.mean=0.775; time: 0.0 min\n",
      "[Tune-x] 45: cp=1e-04; maxdepth=9; minbucket=40\n",
      "[Tune-y] 45: acc.test.mean=0.775; time: 0.0 min\n",
      "[Tune-x] 46: cp=1e-05; maxdepth=9; minbucket=40\n",
      "[Tune-y] 46: acc.test.mean=0.775; time: 0.0 min\n",
      "[Tune-x] 47: cp=1e-04; maxdepth=10; minbucket=40\n",
      "[Tune-y] 47: acc.test.mean=0.775; time: 0.0 min\n",
      "[Tune-x] 48: cp=1e-05; maxdepth=10; minbucket=40\n",
      "[Tune-y] 48: acc.test.mean=0.775; time: 0.0 min\n",
      "[Tune-x] 49: cp=1e-04; maxdepth=5; minbucket=50\n",
      "[Tune-y] 49: acc.test.mean=0.775; time: 0.0 min\n",
      "[Tune-x] 50: cp=1e-05; maxdepth=5; minbucket=50\n",
      "[Tune-y] 50: acc.test.mean=0.775; time: 0.0 min\n",
      "[Tune-x] 51: cp=1e-04; maxdepth=6; minbucket=50\n",
      "[Tune-y] 51: acc.test.mean=0.775; time: 0.0 min\n",
      "[Tune-x] 52: cp=1e-05; maxdepth=6; minbucket=50\n",
      "[Tune-y] 52: acc.test.mean=0.775; time: 0.0 min\n",
      "[Tune-x] 53: cp=1e-04; maxdepth=7; minbucket=50\n",
      "[Tune-y] 53: acc.test.mean=0.775; time: 0.0 min\n",
      "[Tune-x] 54: cp=1e-05; maxdepth=7; minbucket=50\n",
      "[Tune-y] 54: acc.test.mean=0.775; time: 0.0 min\n",
      "[Tune-x] 55: cp=1e-04; maxdepth=8; minbucket=50\n",
      "[Tune-y] 55: acc.test.mean=0.775; time: 0.0 min\n",
      "[Tune-x] 56: cp=1e-05; maxdepth=8; minbucket=50\n",
      "[Tune-y] 56: acc.test.mean=0.775; time: 0.0 min\n",
      "[Tune-x] 57: cp=1e-04; maxdepth=9; minbucket=50\n",
      "[Tune-y] 57: acc.test.mean=0.775; time: 0.0 min\n",
      "[Tune-x] 58: cp=1e-05; maxdepth=9; minbucket=50\n",
      "[Tune-y] 58: acc.test.mean=0.775; time: 0.0 min\n",
      "[Tune-x] 59: cp=1e-04; maxdepth=10; minbucket=50\n",
      "[Tune-y] 59: acc.test.mean=0.775; time: 0.0 min\n",
      "[Tune-x] 60: cp=1e-05; maxdepth=10; minbucket=50\n",
      "[Tune-y] 60: acc.test.mean=0.775; time: 0.0 min\n",
      "[Tune-x] 61: cp=1e-04; maxdepth=5; minbucket=60\n",
      "[Tune-y] 61: acc.test.mean=0.775; time: 0.0 min\n",
      "[Tune-x] 62: cp=1e-05; maxdepth=5; minbucket=60\n",
      "[Tune-y] 62: acc.test.mean=0.775; time: 0.0 min\n",
      "[Tune-x] 63: cp=1e-04; maxdepth=6; minbucket=60\n",
      "[Tune-y] 63: acc.test.mean=0.775; time: 0.0 min\n",
      "[Tune-x] 64: cp=1e-05; maxdepth=6; minbucket=60\n",
      "[Tune-y] 64: acc.test.mean=0.775; time: 0.0 min\n",
      "[Tune-x] 65: cp=1e-04; maxdepth=7; minbucket=60\n",
      "[Tune-y] 65: acc.test.mean=0.775; time: 0.0 min\n",
      "[Tune-x] 66: cp=1e-05; maxdepth=7; minbucket=60\n",
      "[Tune-y] 66: acc.test.mean=0.775; time: 0.0 min\n",
      "[Tune-x] 67: cp=1e-04; maxdepth=8; minbucket=60\n",
      "[Tune-y] 67: acc.test.mean=0.775; time: 0.0 min\n",
      "[Tune-x] 68: cp=1e-05; maxdepth=8; minbucket=60\n",
      "[Tune-y] 68: acc.test.mean=0.775; time: 0.0 min\n",
      "[Tune-x] 69: cp=1e-04; maxdepth=9; minbucket=60\n",
      "[Tune-y] 69: acc.test.mean=0.775; time: 0.0 min\n",
      "[Tune-x] 70: cp=1e-05; maxdepth=9; minbucket=60\n",
      "[Tune-y] 70: acc.test.mean=0.775; time: 0.0 min\n",
      "[Tune-x] 71: cp=1e-04; maxdepth=10; minbucket=60\n",
      "[Tune-y] 71: acc.test.mean=0.775; time: 0.0 min\n",
      "[Tune-x] 72: cp=1e-05; maxdepth=10; minbucket=60\n",
      "[Tune-y] 72: acc.test.mean=0.775; time: 0.0 min\n",
      "[Tune-x] 73: cp=1e-04; maxdepth=5; minbucket=70\n",
      "[Tune-y] 73: acc.test.mean=0.775; time: 0.0 min\n",
      "[Tune-x] 74: cp=1e-05; maxdepth=5; minbucket=70\n",
      "[Tune-y] 74: acc.test.mean=0.775; time: 0.0 min\n",
      "[Tune-x] 75: cp=1e-04; maxdepth=6; minbucket=70\n",
      "[Tune-y] 75: acc.test.mean=0.775; time: 0.0 min\n",
      "[Tune-x] 76: cp=1e-05; maxdepth=6; minbucket=70\n",
      "[Tune-y] 76: acc.test.mean=0.775; time: 0.0 min\n",
      "[Tune-x] 77: cp=1e-04; maxdepth=7; minbucket=70\n",
      "[Tune-y] 77: acc.test.mean=0.775; time: 0.0 min\n",
      "[Tune-x] 78: cp=1e-05; maxdepth=7; minbucket=70\n",
      "[Tune-y] 78: acc.test.mean=0.775; time: 0.0 min\n",
      "[Tune-x] 79: cp=1e-04; maxdepth=8; minbucket=70\n",
      "[Tune-y] 79: acc.test.mean=0.775; time: 0.0 min\n",
      "[Tune-x] 80: cp=1e-05; maxdepth=8; minbucket=70\n",
      "[Tune-y] 80: acc.test.mean=0.775; time: 0.0 min\n",
      "[Tune-x] 81: cp=1e-04; maxdepth=9; minbucket=70\n",
      "[Tune-y] 81: acc.test.mean=0.775; time: 0.0 min\n",
      "[Tune-x] 82: cp=1e-05; maxdepth=9; minbucket=70\n",
      "[Tune-y] 82: acc.test.mean=0.775; time: 0.0 min\n",
      "[Tune-x] 83: cp=1e-04; maxdepth=10; minbucket=70\n",
      "[Tune-y] 83: acc.test.mean=0.775; time: 0.0 min\n",
      "[Tune-x] 84: cp=1e-05; maxdepth=10; minbucket=70\n",
      "[Tune-y] 84: acc.test.mean=0.775; time: 0.0 min\n",
      "[Tune-x] 85: cp=1e-04; maxdepth=5; minbucket=80\n",
      "[Tune-y] 85: acc.test.mean=0.775; time: 0.0 min\n",
      "[Tune-x] 86: cp=1e-05; maxdepth=5; minbucket=80\n",
      "[Tune-y] 86: acc.test.mean=0.775; time: 0.0 min\n",
      "[Tune-x] 87: cp=1e-04; maxdepth=6; minbucket=80\n",
      "[Tune-y] 87: acc.test.mean=0.775; time: 0.0 min\n",
      "[Tune-x] 88: cp=1e-05; maxdepth=6; minbucket=80\n",
      "[Tune-y] 88: acc.test.mean=0.775; time: 0.0 min\n",
      "[Tune-x] 89: cp=1e-04; maxdepth=7; minbucket=80\n",
      "[Tune-y] 89: acc.test.mean=0.775; time: 0.0 min\n",
      "[Tune-x] 90: cp=1e-05; maxdepth=7; minbucket=80\n",
      "[Tune-y] 90: acc.test.mean=0.775; time: 0.0 min\n",
      "[Tune-x] 91: cp=1e-04; maxdepth=8; minbucket=80\n",
      "[Tune-y] 91: acc.test.mean=0.775; time: 0.0 min\n",
      "[Tune-x] 92: cp=1e-05; maxdepth=8; minbucket=80\n",
      "[Tune-y] 92: acc.test.mean=0.775; time: 0.0 min\n",
      "[Tune-x] 93: cp=1e-04; maxdepth=9; minbucket=80\n",
      "[Tune-y] 93: acc.test.mean=0.775; time: 0.0 min\n",
      "[Tune-x] 94: cp=1e-05; maxdepth=9; minbucket=80\n",
      "[Tune-y] 94: acc.test.mean=0.775; time: 0.0 min\n",
      "[Tune-x] 95: cp=1e-04; maxdepth=10; minbucket=80\n",
      "[Tune-y] 95: acc.test.mean=0.775; time: 0.0 min\n",
      "[Tune-x] 96: cp=1e-05; maxdepth=10; minbucket=80\n",
      "[Tune-y] 96: acc.test.mean=0.775; time: 0.0 min\n",
      "[Tune-x] 97: cp=1e-04; maxdepth=5; minbucket=90\n",
      "[Tune-y] 97: acc.test.mean=0.775; time: 0.0 min\n",
      "[Tune-x] 98: cp=1e-05; maxdepth=5; minbucket=90\n",
      "[Tune-y] 98: acc.test.mean=0.775; time: 0.0 min\n",
      "[Tune-x] 99: cp=1e-04; maxdepth=6; minbucket=90\n",
      "[Tune-y] 99: acc.test.mean=0.775; time: 0.0 min\n",
      "[Tune-x] 100: cp=1e-05; maxdepth=6; minbucket=90\n",
      "[Tune-y] 100: acc.test.mean=0.775; time: 0.0 min\n",
      "[Tune-x] 101: cp=1e-04; maxdepth=7; minbucket=90\n",
      "[Tune-y] 101: acc.test.mean=0.775; time: 0.0 min\n",
      "[Tune-x] 102: cp=1e-05; maxdepth=7; minbucket=90\n",
      "[Tune-y] 102: acc.test.mean=0.775; time: 0.0 min\n",
      "[Tune-x] 103: cp=1e-04; maxdepth=8; minbucket=90\n",
      "[Tune-y] 103: acc.test.mean=0.775; time: 0.0 min\n",
      "[Tune-x] 104: cp=1e-05; maxdepth=8; minbucket=90\n",
      "[Tune-y] 104: acc.test.mean=0.775; time: 0.0 min\n",
      "[Tune-x] 105: cp=1e-04; maxdepth=9; minbucket=90\n",
      "[Tune-y] 105: acc.test.mean=0.775; time: 0.0 min\n",
      "[Tune-x] 106: cp=1e-05; maxdepth=9; minbucket=90\n",
      "[Tune-y] 106: acc.test.mean=0.775; time: 0.0 min\n",
      "[Tune-x] 107: cp=1e-04; maxdepth=10; minbucket=90\n",
      "[Tune-y] 107: acc.test.mean=0.775; time: 0.0 min\n",
      "[Tune-x] 108: cp=1e-05; maxdepth=10; minbucket=90\n",
      "[Tune-y] 108: acc.test.mean=0.775; time: 0.0 min\n",
      "[Tune-x] 109: cp=1e-04; maxdepth=5; minbucket=100\n",
      "[Tune-y] 109: acc.test.mean=0.775; time: 0.0 min\n",
      "[Tune-x] 110: cp=1e-05; maxdepth=5; minbucket=100\n",
      "[Tune-y] 110: acc.test.mean=0.775; time: 0.0 min\n",
      "[Tune-x] 111: cp=1e-04; maxdepth=6; minbucket=100\n",
      "[Tune-y] 111: acc.test.mean=0.775; time: 0.0 min\n",
      "[Tune-x] 112: cp=1e-05; maxdepth=6; minbucket=100\n",
      "[Tune-y] 112: acc.test.mean=0.775; time: 0.0 min\n",
      "[Tune-x] 113: cp=1e-04; maxdepth=7; minbucket=100\n",
      "[Tune-y] 113: acc.test.mean=0.775; time: 0.0 min\n",
      "[Tune-x] 114: cp=1e-05; maxdepth=7; minbucket=100\n",
      "[Tune-y] 114: acc.test.mean=0.775; time: 0.0 min\n",
      "[Tune-x] 115: cp=1e-04; maxdepth=8; minbucket=100\n",
      "[Tune-y] 115: acc.test.mean=0.775; time: 0.0 min\n",
      "[Tune-x] 116: cp=1e-05; maxdepth=8; minbucket=100\n",
      "[Tune-y] 116: acc.test.mean=0.775; time: 0.0 min\n",
      "[Tune-x] 117: cp=1e-04; maxdepth=9; minbucket=100\n",
      "[Tune-y] 117: acc.test.mean=0.775; time: 0.0 min\n",
      "[Tune-x] 118: cp=1e-05; maxdepth=9; minbucket=100\n",
      "[Tune-y] 118: acc.test.mean=0.775; time: 0.0 min\n",
      "[Tune-x] 119: cp=1e-04; maxdepth=10; minbucket=100\n",
      "[Tune-y] 119: acc.test.mean=0.775; time: 0.0 min\n",
      "[Tune-x] 120: cp=1e-05; maxdepth=10; minbucket=100\n",
      "[Tune-y] 120: acc.test.mean=0.775; time: 0.0 min\n",
      "[Tune] Result: cp=1e-04; maxdepth=9; minbucket=60 : acc.test.mean=0.775\n"
     ]
    }
   ],
   "source": [
    "stune <- tuneParams(learner = makeatree, resampling = set_cv, task = trainTask, par.set = gs, control = gscontrol, measures = acc)"
   ]
  },
  {
   "cell_type": "code",
   "execution_count": null,
   "metadata": {
    "collapsed": true,
    "deletable": true,
    "editable": true
   },
   "outputs": [],
   "source": []
  }
 ],
 "metadata": {
  "kernelspec": {
   "display_name": "R",
   "language": "R",
   "name": "ir"
  },
  "language_info": {
   "codemirror_mode": "r",
   "file_extension": ".r",
   "mimetype": "text/x-r-source",
   "name": "R",
   "pygments_lexer": "r",
   "version": "3.4.1"
  },
  "toc": {
   "colors": {
    "hover_highlight": "#DAA520",
    "navigate_num": "#000000",
    "navigate_text": "#333333",
    "running_highlight": "#FF0000",
    "selected_highlight": "#FFD700",
    "sidebar_border": "#EEEEEE",
    "wrapper_background": "#FFFFFF"
   },
   "moveMenuLeft": true,
   "nav_menu": {
    "height": "54px",
    "width": "253px"
   },
   "navigate_menu": true,
   "number_sections": false,
   "sideBar": true,
   "threshold": 4,
   "toc_cell": false,
   "toc_section_display": "block",
   "toc_window_display": false,
   "widenNotebook": false
  }
 },
 "nbformat": 4,
 "nbformat_minor": 2
}
